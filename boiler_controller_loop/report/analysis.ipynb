{
  "nbformat": 4,
  "nbformat_minor": 0,
  "metadata": {
    "kernelspec": {
      "display_name": "concurrent_programming",
      "language": "python",
      "name": "concurrent_programming"
    },
    "language_info": {
      "codemirror_mode": {
        "name": "ipython",
        "version": 3
      },
      "file_extension": ".py",
      "mimetype": "text/x-python",
      "name": "python",
      "nbconvert_exporter": "python",
      "pygments_lexer": "ipython3",
      "version": "3.6.9"
    },
    "colab": {
      "name": "analysis.ipynb",
      "provenance": []
    }
  },
  "cells": [
    {
      "cell_type": "code",
      "metadata": {
        "id": "w4s4TCigQYDO"
      },
      "source": [
        "import pandas as pd\n",
        "import seaborn as sns\n",
        "from matplotlib import pyplot as plt"
      ],
      "execution_count": 1,
      "outputs": []
    },
    {
      "cell_type": "code",
      "metadata": {
        "id": "jiyV1T3MQYDP"
      },
      "source": [
        "NANOSEC_PER_MICRO = 1000\n",
        "response_times = pd.read_csv('response_times_20000.csv')\n",
        "response_times.columns = ['response_times_ns']\n",
        "response_times"
      ],
      "execution_count": null,
      "outputs": []
    },
    {
      "cell_type": "code",
      "metadata": {
        "id": "2FZHCBQDQYDR"
      },
      "source": [
        "rtmis = response_times.response_times_ns / NANOSEC_PER_MICRO\n",
        "\n",
        "sns_plot = plt.figure(figsize=(15, 10))\n",
        "sns.histplot(rtmis)\n",
        "plt.title('Distribuição dos tempos de resposta para controle da caldeira')\n",
        "plt.ylabel('Contagem')\n",
        "plt.xlabel('Tempo de resposta [μs]')\n",
        "plt.show()\n",
        "\n",
        "print(f'Numero de amostras: {response_times.shape[0]}')\n",
        "print(f'Media: {rtmis.mean()} μs')\n",
        "print(f'Mediana: {rtmis.median()} μs')\n",
        "print(f'Desvio padrao: {rtmis.std()} μs')\n",
        "print(f'Max: {rtmis.max()} μs')\n",
        "print(f'Min: {rtmis.min()} μs')"
      ],
      "execution_count": null,
      "outputs": []
    }
  ]
}